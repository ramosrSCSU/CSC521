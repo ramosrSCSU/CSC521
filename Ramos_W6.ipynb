{
  "nbformat": 4,
  "nbformat_minor": 0,
  "metadata": {
    "colab": {
      "provenance": [],
      "authorship_tag": "ABX9TyN/+Hp7O8DH4bPElTmJ7tlN",
      "include_colab_link": true
    },
    "kernelspec": {
      "name": "python3",
      "display_name": "Python 3"
    },
    "language_info": {
      "name": "python"
    }
  },
  "cells": [
    {
      "cell_type": "markdown",
      "metadata": {
        "id": "view-in-github",
        "colab_type": "text"
      },
      "source": [
        "<a href=\"https://colab.research.google.com/github/ramosrSCSU/CSC521/blob/main/Ramos_W6.ipynb\" target=\"_parent\"><img src=\"https://colab.research.google.com/assets/colab-badge.svg\" alt=\"Open In Colab\"/></a>"
      ]
    },
    {
      "cell_type": "code",
      "execution_count": 5,
      "metadata": {
        "colab": {
          "base_uri": "https://localhost:8080/",
          "height": 476
        },
        "id": "CP3XPd3Voshk",
        "outputId": "a06be09f-4bf7-4170-ee77-a65fb4be498f"
      },
      "outputs": [
        {
          "output_type": "stream",
          "name": "stdout",
          "text": [
            "DFS sequence of visited nodes: ['A', 'B', 'D', 'E', 'C', 'F']\n"
          ]
        },
        {
          "output_type": "display_data",
          "data": {
            "text/plain": [
              "<Figure size 500x400 with 1 Axes>"
            ],
            "image/png": "[encoded data removed]"
          },
          "metadata": {}
        }
      ],
      "source": [
        "import matplotlib.pyplot as plt\n",
        "import networkx as nx\n",
        "\n",
        "# Define the Node class\n",
        "class Node:\n",
        "    def __init__(self, value):\n",
        "        self.value = value\n",
        "        self.left = None\n",
        "        self.right = None\n",
        "\n",
        "# Build the example binary tree with letters\n",
        "root = Node('A')\n",
        "root.left = Node('B')\n",
        "root.right = Node('C')\n",
        "root.left.left = Node('D')\n",
        "root.left.right = Node('E')\n",
        "root.right.right = Node('F')\n",
        "\n",
        "# DFS traversal order (preorder: root -> left -> right)\n",
        "def dfs_order(root, visited=None):\n",
        "    if visited is None:\n",
        "        visited = []\n",
        "    if root:\n",
        "        visited.append(root.value)\n",
        "        dfs_order(root.left, visited)\n",
        "        dfs_order(root.right, visited)\n",
        "    return visited\n",
        "\n",
        "# Get DFS order\n",
        "dfs_sequence = dfs_order(root)\n",
        "print(\"DFS sequence of visited nodes:\", dfs_sequence)\n",
        "\n",
        "# Build a graph for visualization\n",
        "G = nx.DiGraph()\n",
        "edges = [\n",
        "    ('A', 'B'), ('A', 'C'),\n",
        "    ('B', 'D'), ('B', 'E'),\n",
        "    ('C', 'F')\n",
        "]\n",
        "G.add_edges_from(edges)\n",
        "\n",
        "# Position nodes with a compact layout\n",
        "pos = {\n",
        "    'A': (0, 3),\n",
        "    'B': (-0.8, 2),\n",
        "    'C': (0.8, 2),\n",
        "    'D': (-1, 1),\n",
        "    'E': (-0.6, 1),\n",
        "    'F': (1, 1)\n",
        "}\n",
        "\n",
        "plt.figure(figsize=(5, 4))\n",
        "nx.draw(G, pos, with_labels=True, node_size=1200, node_color=\"lightblue\", font_size=12, font_weight=\"bold\", arrows=False)\n",
        "plt.title(\"Binary Tree Structure\")\n",
        "plt.show()"
      ]
    },
    {
      "cell_type": "code",
      "source": [
        "import itertools\n",
        "import numpy as np\n",
        "\n",
        "# Define weights, values, and maximum capacity\n",
        "weights = [1, 2, 3, 2, 5, 4]\n",
        "values  = [10, 15, 40, 25, 60, 50]\n",
        "W = 75  # Maximum weight capacity\n",
        "n = len(weights)\n",
        "\n",
        "# ==============================\n",
        "# Brute-force solution\n",
        "# ==============================\n",
        "max_value_bf = 0\n",
        "best_combination_bf = []\n",
        "\n",
        "# Generate all possible subsets of items\n",
        "for r in range(1, n+1):\n",
        "    for subset in itertools.combinations(range(n), r):\n",
        "        total_weight = sum(weights[i] for i in subset)\n",
        "        total_value  = sum(values[i] for i in subset)\n",
        "        if total_weight <= W and total_value > max_value_bf:\n",
        "            max_value_bf = total_value\n",
        "            best_combination_bf = subset\n",
        "\n",
        "print(\"=== Brute-force Solution ===\")\n",
        "print(f\"Maximum value that can be carried: {max_value_bf}\")\n",
        "print(f\"The Knapsack Items (1-based indices): {[i+1 for i in best_combination_bf]}\\n\")"
      ],
      "metadata": {
        "colab": {
          "base_uri": "https://localhost:8080/"
        },
        "id": "GBJg0A7tpE5O",
        "outputId": "3759ab92-16b6-4ffa-b011-cc7c6ae87d17"
      },
      "execution_count": 6,
      "outputs": [
        {
          "output_type": "stream",
          "name": "stdout",
          "text": [
            "=== Brute-force Solution ===\n",
            "Maximum value that can be carried: 200\n",
            "The Knapsack Items (1-based indices): [1, 2, 3, 4, 5, 6]\n",
            "\n"
          ]
        }
      ]
    },
    {
      "cell_type": "code",
      "source": [
        "import numpy as np\n",
        "\n",
        "# Distance matrix for 5 cities (symmetric, 0 on diagonals)\n",
        "# You can update these values as needed\n",
        "distance_matrix = np.array([\n",
        "    [0, 2, 9, 10, 7],\n",
        "    [2, 0, 6, 4, 3],\n",
        "    [9, 6, 0, 8, 5],\n",
        "    [10, 4, 8, 0, 6],\n",
        "    [7, 3, 5, 6, 0]\n",
        "])\n",
        "\n",
        "num_cities = len(distance_matrix)\n",
        "\n",
        "def nearest_neighbor(start_city, dist_matrix):\n",
        "    visited = [start_city]\n",
        "    total_distance = 0\n",
        "    current_city = start_city\n",
        "\n",
        "    while len(visited) < num_cities:\n",
        "        # find the nearest unvisited city\n",
        "        distances = dist_matrix[current_city]\n",
        "        nearest_city = None\n",
        "        nearest_distance = float(\"inf\")\n",
        "\n",
        "        for city in range(num_cities):\n",
        "            if city not in visited and distances[city] < nearest_distance:\n",
        "                nearest_city = city\n",
        "                nearest_distance = distances[city]\n",
        "\n",
        "        visited.append(nearest_city)\n",
        "        total_distance += nearest_distance\n",
        "        current_city = nearest_city\n",
        "\n",
        "    # return to starting city\n",
        "    total_distance += dist_matrix[current_city][start_city]\n",
        "    visited.append(start_city)\n",
        "\n",
        "    return visited, total_distance\n",
        "\n",
        "# Run nearest neighbor starting from each city\n",
        "for start in range(num_cities):\n",
        "    tour, dist = nearest_neighbor(start, distance_matrix)\n",
        "    print(f\"Starting at city {start}: Tour = {tour}, Total Distance = {dist}\")"
      ],
      "metadata": {
        "colab": {
          "base_uri": "https://localhost:8080/"
        },
        "id": "69In1rUPpXnx",
        "outputId": "8b0a059f-b38e-45e8-c049-6d93228380e3"
      },
      "execution_count": 7,
      "outputs": [
        {
          "output_type": "stream",
          "name": "stdout",
          "text": [
            "Starting at city 0: Tour = [0, 1, 4, 2, 3, 0], Total Distance = 28\n",
            "Starting at city 1: Tour = [1, 0, 4, 2, 3, 1], Total Distance = 26\n",
            "Starting at city 2: Tour = [2, 4, 1, 0, 3, 2], Total Distance = 28\n",
            "Starting at city 3: Tour = [3, 1, 0, 4, 2, 3], Total Distance = 26\n",
            "Starting at city 4: Tour = [4, 1, 0, 2, 3, 4], Total Distance = 28\n"
          ]
        }
      ]
    },
    {
      "cell_type": "code",
      "source": [
        "def linear_search(arr, target):\n",
        "    \"\"\"\n",
        "    Perform a linear search on the given array to find the target element.\n",
        "    Parameters:\n",
        "        arr (list): The list of elements to search through\n",
        "        target (any): The element we want to find\n",
        "    Returns:\n",
        "        int: The index of the target if found, otherwise -1\n",
        "    \"\"\"\n",
        "\n",
        "    # Loop through each element in the array using its index\n",
        "    for i in range(len(arr)):\n",
        "        # Print the current state of the search (for understanding the process)\n",
        "        print(f\"Iteration {i + 1}: Checking element {arr[i]}\")\n",
        "\n",
        "        # Check if the current element is equal to the target\n",
        "        if arr[i] == target:\n",
        "            print(f\"Target {target} found at index {i}\")\n",
        "            return i  # Return the index where the target is found\n",
        "\n",
        "    # If the loop finishes without finding the target, print a message\n",
        "    print(f\"Target {target} not found in the array\")\n",
        "    return -1  # Return -1 when the target does not exist in the array\n",
        "\n",
        "\n",
        "# Example usage\n",
        "arr = [1, 3, 5, 7, 9, 10, 79, 81]  # Sample list of numbers\n",
        "target = 81  # Element we want to search for\n",
        "\n",
        "# Call the linear_search function\n",
        "result = linear_search(arr, target)\n",
        "\n",
        "# Check the result and print an additional message\n",
        "if result == -1:\n",
        "    print(\"Element not found\")"
      ],
      "metadata": {
        "colab": {
          "base_uri": "https://localhost:8080/"
        },
        "id": "zlCB5CHZplsk",
        "outputId": "7b1415a8-9fc0-4c36-b4b1-c4c4f530f0e2"
      },
      "execution_count": 8,
      "outputs": [
        {
          "output_type": "stream",
          "name": "stdout",
          "text": [
            "Iteration 1: Checking element 1\n",
            "Iteration 2: Checking element 3\n",
            "Iteration 3: Checking element 5\n",
            "Iteration 4: Checking element 7\n",
            "Iteration 5: Checking element 9\n",
            "Iteration 6: Checking element 10\n",
            "Iteration 7: Checking element 79\n",
            "Iteration 8: Checking element 81\n",
            "Target 81 found at index 7\n"
          ]
        }
      ]
    }
  ]
}