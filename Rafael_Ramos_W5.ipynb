{
  "nbformat": 4,
  "nbformat_minor": 0,
  "metadata": {
    "colab": {
      "provenance": [],
      "authorship_tag": "ABX9TyMPy+1zgzclu1HqkaorX+lH",
      "include_colab_link": true
    },
    "kernelspec": {
      "name": "python3",
      "display_name": "Python 3"
    },
    "language_info": {
      "name": "python"
    }
  },
  "cells": [
    {
      "cell_type": "markdown",
      "metadata": {
        "id": "view-in-github",
        "colab_type": "text"
      },
      "source": [
        "<a href=\"https://colab.research.google.com/github/ramosrSCSU/CSC521/blob/main/Rafael_Ramos_W5.ipynb\" target=\"_parent\"><img src=\"https://colab.research.google.com/assets/colab-badge.svg\" alt=\"Open In Colab\"/></a>"
      ]
    },
    {
      "cell_type": "code",
      "execution_count": 6,
      "metadata": {
        "colab": {
          "base_uri": "https://localhost:8080/"
        },
        "id": "_9OEg_VCxOeg",
        "outputId": "1407c15c-20ec-4457-9233-f561c773437d"
      },
      "outputs": [
        {
          "output_type": "stream",
          "name": "stdout",
          "text": [
            "Current array state: [21, 3, 35, 5]\n",
            "Current array state: [5, 21, 3, 35]\n",
            "Current array state: [5, 3, 35, 21]\n",
            "Current array state: [5, 3, 21, 35]\n",
            "Current array state: [3, 5, 35, 21]\n",
            "Current array state: [5, 35, 3, 21]\n",
            "Current array state: [21, 3, 5, 35]\n",
            "Current array state: [3, 5, 21, 35]\n",
            "========================\n",
            "Sorted Array: \n",
            "352135\n",
            "========================\n"
          ]
        }
      ],
      "source": [
        "import random\n",
        "# Part A\n",
        "def bogoSort(a):\n",
        "  n = len(a)\n",
        "  while not is_sorted(a):\n",
        "    shuffle(a)\n",
        "    print(\"Current array state:\", a)\n",
        "\n",
        "def is_sorted(a):\n",
        "  n = len(a)\n",
        "  for i in range(0, n-1):\n",
        "    if a[i] > a[i+1]:\n",
        "      return False\n",
        "  return True\n",
        "\n",
        "def shuffle(a):\n",
        "  n = len(a)\n",
        "  for i in range(n):\n",
        "    r = random.randint(0, n-1)\n",
        "    a[i], a[r] = a[r], a[i]\n",
        "\n",
        "a = [3,21,5,35]\n",
        "bogoSort(a)\n",
        "print(\"========================\")\n",
        "print(\"Sorted Array: \")\n",
        "print(\"\".join(str(x) for x in a))\n",
        "print(\"========================\")"
      ]
    },
    {
      "cell_type": "markdown",
      "source": [
        "Part B\n",
        "\n",
        "1. In the bogoSort function, we shuffle the given array in the shuffle function that was created until the array is sorted (based on the conditions of the while loop).\n",
        "2. In the shuffle function the values are randomly placed in different indexes of the array.\n",
        "3. The overall function will continuously run until the array is sorted.\n",
        "\n",
        "Part C\n",
        "1. According to Big O notation, this algorithm is O(n!) and with the best case scenario O(n). This would determine that this algorithm would be the slowest in the worst case and the fastest in the best case.\n",
        "2. The Bogo sort function is impractical because the number of shuffles can be infinite because it is a random shuffle of the positions of the numbers.\n",
        "\n"
      ],
      "metadata": {
        "id": "dxOhEeey2OPX"
      }
    },
    {
      "cell_type": "markdown",
      "source": [],
      "metadata": {
        "id": "xUm2VaN-2EwL"
      }
    },
    {
      "cell_type": "code",
      "source": [
        "# Part A\n",
        "def bubbleSort(arr):\n",
        "  n = len(arr)\n",
        "  for i in range(n):\n",
        "    for j in range (0, n-i-1):\n",
        "      if arr[j] > arr[j+1]:\n",
        "        arr[j], arr[j+1] = arr[j+1], arr[j]\n",
        "      print(\"Step:\", arr)\n",
        "    print(\"After pass\", i+1,\":\", arr)\n",
        "    print(\"\")\n",
        "  return arr\n",
        "arr = [101,31,20,42,30,9,75]\n",
        "print(\"Original array:\", arr)\n",
        "sorted_arr = bubbleSort(arr)\n",
        "print(\"Sorted Array:\", sorted_arr)"
      ],
      "metadata": {
        "colab": {
          "base_uri": "https://localhost:8080/"
        },
        "id": "2g4OFVpIy3iG",
        "outputId": "53c5d718-5788-4763-88ca-aceca263b602"
      },
      "execution_count": 7,
      "outputs": [
        {
          "output_type": "stream",
          "name": "stdout",
          "text": [
            "Original array: [101, 31, 20, 42, 30, 9, 75]\n",
            "Step: [31, 101, 20, 42, 30, 9, 75]\n",
            "Step: [31, 20, 101, 42, 30, 9, 75]\n",
            "Step: [31, 20, 42, 101, 30, 9, 75]\n",
            "Step: [31, 20, 42, 30, 101, 9, 75]\n",
            "Step: [31, 20, 42, 30, 9, 101, 75]\n",
            "Step: [31, 20, 42, 30, 9, 75, 101]\n",
            "After pass 1 : [31, 20, 42, 30, 9, 75, 101]\n",
            "\n",
            "Step: [20, 31, 42, 30, 9, 75, 101]\n",
            "Step: [20, 31, 42, 30, 9, 75, 101]\n",
            "Step: [20, 31, 30, 42, 9, 75, 101]\n",
            "Step: [20, 31, 30, 9, 42, 75, 101]\n",
            "Step: [20, 31, 30, 9, 42, 75, 101]\n",
            "After pass 2 : [20, 31, 30, 9, 42, 75, 101]\n",
            "\n",
            "Step: [20, 31, 30, 9, 42, 75, 101]\n",
            "Step: [20, 30, 31, 9, 42, 75, 101]\n",
            "Step: [20, 30, 9, 31, 42, 75, 101]\n",
            "Step: [20, 30, 9, 31, 42, 75, 101]\n",
            "After pass 3 : [20, 30, 9, 31, 42, 75, 101]\n",
            "\n",
            "Step: [20, 30, 9, 31, 42, 75, 101]\n",
            "Step: [20, 9, 30, 31, 42, 75, 101]\n",
            "Step: [20, 9, 30, 31, 42, 75, 101]\n",
            "After pass 4 : [20, 9, 30, 31, 42, 75, 101]\n",
            "\n",
            "Step: [9, 20, 30, 31, 42, 75, 101]\n",
            "Step: [9, 20, 30, 31, 42, 75, 101]\n",
            "After pass 5 : [9, 20, 30, 31, 42, 75, 101]\n",
            "\n",
            "Step: [9, 20, 30, 31, 42, 75, 101]\n",
            "After pass 6 : [9, 20, 30, 31, 42, 75, 101]\n",
            "\n",
            "After pass 7 : [9, 20, 30, 31, 42, 75, 101]\n",
            "\n",
            "Sorted Array: [9, 20, 30, 31, 42, 75, 101]\n"
          ]
        }
      ]
    },
    {
      "cell_type": "markdown",
      "source": [
        "Part B\n",
        "\n",
        "1. In the bubbleSort function, we first determine the length of the array. This will give us n^2 iterations due to the nested loop that is being used for the comparison. \"i\" will then compare with \"j\" and determine if the first element is of higher value than the next. If so, the placement of the first element tested will swap places with the next.\n",
        "2. Then from this position that it is in, it will compare to the next element and if the next element is of lower value it will swap positions in the array and continue until the next element of the array is of higher value or it reaches the end.\n",
        "3. Then the next lowest indexed element in the array will go through the same process until all elements of the array are sorted.\n",
        "\n",
        "Part C\n",
        "1. The Bubble sort would be considered the slowest in the best case scenario and slower than selection sort in the worst case scenario. Although the big O notation of both selection sort and bubble sort are both n^2, the number of swaps in bubble sort is larger than the number of swaps done in selection sort."
      ],
      "metadata": {
        "id": "aCbMk00oSqfb"
      }
    },
    {
      "cell_type": "code",
      "source": [
        "# Part A\n",
        "def selectionSort(arr):\n",
        "  n = len(arr)\n",
        "  for i in range(n):\n",
        "    min_idx = i\n",
        "    for j in range(i+1, n):\n",
        "      if arr[j] < arr[min_idx]:\n",
        "        min_idx = j\n",
        "    arr[i], arr[min_idx] = arr[min_idx], arr[i]\n",
        "\n",
        "    print(\"After iteration\", i+1,\":\",arr)\n",
        "  return arr\n",
        "\n",
        "arr = [32,25,23,15,2,20,24]\n",
        "print(\"Original Array:\", arr)\n",
        "sorted_arr = selectionSort(arr)\n",
        "print(sorted_arr)"
      ],
      "metadata": {
        "colab": {
          "base_uri": "https://localhost:8080/"
        },
        "id": "NKTgfPwK0TS5",
        "outputId": "01cf8a58-60c7-47ab-b1f9-04863a7c9008"
      },
      "execution_count": 9,
      "outputs": [
        {
          "output_type": "stream",
          "name": "stdout",
          "text": [
            "Original Array: [32, 25, 23, 15, 2, 20, 24]\n",
            "After iteration 1 : [2, 25, 23, 15, 32, 20, 24]\n",
            "After iteration 2 : [2, 15, 23, 25, 32, 20, 24]\n",
            "After iteration 3 : [2, 15, 20, 25, 32, 23, 24]\n",
            "After iteration 4 : [2, 15, 20, 23, 32, 25, 24]\n",
            "After iteration 5 : [2, 15, 20, 23, 24, 25, 32]\n",
            "After iteration 6 : [2, 15, 20, 23, 24, 25, 32]\n",
            "After iteration 7 : [2, 15, 20, 23, 24, 25, 32]\n",
            "[2, 15, 20, 23, 24, 25, 32]\n"
          ]
        }
      ]
    },
    {
      "cell_type": "markdown",
      "source": [
        "Part B\n",
        "1. In the selectionSort function, we determine the number of iterations that will need to take place through knowing the length of the array.\n",
        "2. To determine the minimum element of the unsorted array and the maximum element of the unsorted array and swap the positions.\n",
        "\n",
        "Part C\n",
        "1. The selection sort would be considered faster than bubble sort in the worst case scenario. Although the big O notation of both selection sort and bubble sort are both n^2, the number of swaps in selection sort is smaller than the number of swaps done in bubble sort."
      ],
      "metadata": {
        "id": "RYYoRTVZVJtg"
      }
    }
  ]
}