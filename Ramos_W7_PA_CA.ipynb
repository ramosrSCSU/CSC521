{
  "nbformat": 4,
  "nbformat_minor": 0,
  "metadata": {
    "colab": {
      "provenance": [],
      "authorship_tag": "ABX9TyM6gNfM+OoPfwa56nRmVelo",
      "include_colab_link": true
    },
    "kernelspec": {
      "name": "python3",
      "display_name": "Python 3"
    },
    "language_info": {
      "name": "python"
    }
  },
  "cells": [
    {
      "cell_type": "markdown",
      "metadata": {
        "id": "view-in-github",
        "colab_type": "text"
      },
      "source": [
        "<a href=\"https://colab.research.google.com/github/ramosrSCSU/CSC521/blob/main/Ramos_W7_PA_CA.ipynb\" target=\"_parent\"><img src=\"https://colab.research.google.com/assets/colab-badge.svg\" alt=\"Open In Colab\"/></a>"
      ]
    },
    {
      "cell_type": "code",
      "execution_count": 1,
      "metadata": {
        "colab": {
          "base_uri": "https://localhost:8080/"
        },
        "id": "danMtpFv5EwC",
        "outputId": "6f0a464f-0be7-42bf-c44e-016b226e221e"
      },
      "outputs": [
        {
          "output_type": "stream",
          "name": "stdout",
          "text": [
            "Initial array: [38, 21, 27, 43, 3, 9, 12, 14]\n",
            "\n",
            "Left half: [38]\n",
            "Right half: [21]\n",
            "Merged array: [21, 38]\n",
            "\n",
            "Left half: [27]\n",
            "Right half: [43]\n",
            "Merged array: [27, 43]\n",
            "\n",
            "Left half: [21, 38]\n",
            "Right half: [27, 43]\n",
            "Merged array: [21, 27, 38, 43]\n",
            "\n",
            "Left half: [3]\n",
            "Right half: [9]\n",
            "Merged array: [3, 9]\n",
            "\n",
            "Left half: [12]\n",
            "Right half: [14]\n",
            "Merged array: [12, 14]\n",
            "\n",
            "Left half: [3, 9]\n",
            "Right half: [12, 14]\n",
            "Merged array: [3, 9, 12, 14]\n",
            "\n",
            "Left half: [21, 27, 38, 43]\n",
            "Right half: [3, 9, 12, 14]\n",
            "Merged array: [3, 9, 12, 14, 21, 27, 38, 43]\n",
            "\n",
            "\n",
            "Sorted array: [3, 9, 12, 14, 21, 27, 38, 43]\n"
          ]
        }
      ],
      "source": [
        "def merge_sort(arr):\n",
        "    # Helper function to merge two sorted subarrays into a single sorted array\n",
        "    def merge(left, right):\n",
        "        sorted_array = []  # This will hold the merged sorted array\n",
        "        i = j = 0  # Pointers for the left and right subarrays\n",
        "\n",
        "        # Merge the two arrays while there are elements in both\n",
        "        while i < len(left) and j < len(right):\n",
        "            if left[i] <= right[j]:\n",
        "                sorted_array.append(left[i])  # Append the smaller element\n",
        "                i += 1  # Move pointer in the left array\n",
        "            else:\n",
        "                sorted_array.append(right[j])  # Append the smaller element\n",
        "                j += 1  # Move pointer in the right array\n",
        "\n",
        "        # Append any remaining elements from the left array\n",
        "        sorted_array.extend(left[i:])\n",
        "        # Append any remaining elements from the right array\n",
        "        sorted_array.extend(right[j:])\n",
        "\n",
        "        return sorted_array\n",
        "\n",
        "    # Base case: a list of zero or one element is already sorted\n",
        "    if len(arr) <= 1:\n",
        "        return arr\n",
        "\n",
        "    # Divide the array into two halves\n",
        "    mid = len(arr) // 2\n",
        "    left_half = merge_sort(arr[:mid])  # Recursively sort the left half\n",
        "    right_half = merge_sort(arr[mid:])  # Recursively sort the right half\n",
        "\n",
        "    # Merge the two sorted halves\n",
        "    merged_array = merge(left_half, right_half)\n",
        "\n",
        "    # Print the intermediate steps for debugging and visualization\n",
        "    print(f\"Left half: {left_half}\")\n",
        "    print(f\"Right half: {right_half}\")\n",
        "    print(f\"Merged array: {merged_array}\")\n",
        "    print(\"\")\n",
        "\n",
        "    return merged_array\n",
        "\n",
        "# Example array to be sorted\n",
        "array = [38, 21, 27, 43, 3, 9, 12, 14]\n",
        "\n",
        "# Print the initial array\n",
        "print(f\"Initial array: {array}\\n\")\n",
        "\n",
        "# Perform merge sort on the example array\n",
        "sorted_array = merge_sort(array)\n",
        "\n",
        "# Print the final sorted array\n",
        "print(f\"\\nSorted array: {sorted_array}\")"
      ]
    },
    {
      "cell_type": "code",
      "source": [
        "def quick_sort(arr, depth=0):\n",
        "    # Base case: If the array has 1 or 0 elements, it is already sorted\n",
        "    if len(arr) <= 1:\n",
        "        return arr\n",
        "    else:\n",
        "        # Choosing the last element as the pivot\n",
        "        pivot = arr[-1]\n",
        "        # Elements less than the pivot\n",
        "        left = [x for x in arr[:-1] if x <= pivot]\n",
        "        # Elements greater than the pivot\n",
        "        right = [x for x in arr[:-1] if x > pivot]\n",
        "\n",
        "        # Print the array at the current depth level of recursion\n",
        "        print(f\"Depth {depth}: {arr}, Pivot: {pivot}\")\n",
        "\n",
        "        # Recursively sort left and right, then combine\n",
        "        return quick_sort(left, depth + 1) + [pivot] + quick_sort(right, depth + 1)\n",
        "\n",
        "# Example array\n",
        "arr = [9, 7, 5, 11, 12]\n",
        "\n",
        "# Sorting the array using Quick Sort\n",
        "sorted_arr = quick_sort(arr)\n",
        "\n",
        "# Print the final result\n",
        "print(\"Sorted array:\", sorted_arr)"
      ],
      "metadata": {
        "colab": {
          "base_uri": "https://localhost:8080/"
        },
        "id": "CT1PAPU-5eZJ",
        "outputId": "2f8f8cf3-e138-486c-de5e-c7fdd4a777da"
      },
      "execution_count": 2,
      "outputs": [
        {
          "output_type": "stream",
          "name": "stdout",
          "text": [
            "Depth 0: [9, 7, 5, 11, 12], Pivot: 12\n",
            "Depth 1: [9, 7, 5, 11], Pivot: 11\n",
            "Depth 2: [9, 7, 5], Pivot: 5\n",
            "Depth 3: [9, 7], Pivot: 7\n",
            "Sorted array: [5, 7, 9, 11, 12]\n"
          ]
        }
      ]
    }
  ]
}